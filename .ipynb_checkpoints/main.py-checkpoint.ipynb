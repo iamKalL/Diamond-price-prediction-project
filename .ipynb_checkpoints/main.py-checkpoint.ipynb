{
 "cells": [
  {
   "cell_type": "code",
   "execution_count": null,
   "id": "8b45e84d",
   "metadata": {},
   "outputs": [],
   "source": [
    "import pandas as pd\n",
    "import seaborn as sns\n",
    "from sklearn.linear_model import LinearRegression\n",
    "from sklearn.pipeline import make_pipeline\n",
    "from sklearn.preprocessing import StandardScaler\n",
    "from sklearn.compose import ColumnTransformer\n",
    "from sklearn.preprocessing import OrdinalEncoder\n",
    "from sklearn import svm\n"
   ]
  },
  {
   "cell_type": "code",
   "execution_count": null,
   "id": "c653dc8b",
   "metadata": {},
   "outputs": [],
   "source": [
    "train = pd.read_csv('train.csv')\n",
    "test = pd.read_csv('test.csv')"
   ]
  },
  {
   "cell_type": "code",
   "execution_count": null,
   "id": "3ec0984f",
   "metadata": {},
   "outputs": [],
   "source": [
    "train.head()"
   ]
  },
  {
   "cell_type": "code",
   "execution_count": null,
   "id": "f0b2f68c",
   "metadata": {},
   "outputs": [],
   "source": [
    "test.head()"
   ]
  },
  {
   "cell_type": "code",
   "execution_count": null,
   "id": "58371fcb",
   "metadata": {},
   "outputs": [],
   "source": [
    "train.info()"
   ]
  },
  {
   "cell_type": "code",
   "execution_count": null,
   "id": "5f1ec30d",
   "metadata": {},
   "outputs": [],
   "source": [
    "train.describe()"
   ]
  },
  {
   "cell_type": "code",
   "execution_count": null,
   "id": "8b88c930",
   "metadata": {},
   "outputs": [],
   "source": [
    "train = train.drop(columns=['Id'])\n",
    "test = test.drop(columns=['Id'])"
   ]
  },
  {
   "cell_type": "code",
   "execution_count": null,
   "id": "de73c0dd",
   "metadata": {},
   "outputs": [],
   "source": [
    "sns.pairplot(train)"
   ]
  },
  {
   "cell_type": "code",
   "execution_count": null,
   "id": "6daf48b2",
   "metadata": {},
   "outputs": [],
   "source": [
    "corr = train.corr(numeric_only=True)\n",
    "sns.heatmap(corr, annot=True)"
   ]
  },
  {
   "cell_type": "code",
   "execution_count": null,
   "id": "9c56cf9b",
   "metadata": {},
   "outputs": [],
   "source": [
    "train['area'] = train['x']*train['y']*train['z']\n",
    "train = train.drop(columns=['x','y','z'])\n",
    "test_corr = train.corr(numeric_only=True)\n",
    "sns.heatmap(test_corr, annot=True)\n",
    "sns.pairplot(train_with_area)"
   ]
  },
  {
   "cell_type": "code",
   "execution_count": null,
   "id": "74f86b89",
   "metadata": {},
   "outputs": [],
   "source": [
    "train.head()"
   ]
  },
  {
   "cell_type": "code",
   "execution_count": null,
   "id": "52428160",
   "metadata": {},
   "outputs": [],
   "source": [
    "y_train = train['price']\n",
    "X_train = train.drop(columns=['price'])"
   ]
  },
  {
   "cell_type": "code",
   "execution_count": null,
   "id": "0ee0dbd4",
   "metadata": {},
   "outputs": [],
   "source": [
    "num_attribs = list(X_train.columns.drop(['cut', 'color', 'clarity']))\n",
    "cat_attribs = list(X_train[['cut', 'color', 'clarity']].columns)\n",
    "num_pipeline = make_pipeline(StandardScaler())\n",
    "cat_pipeline = make_pipeline(OrdinalEncoder())\n",
    "full_pipeline = ColumnTransformer([\n",
    " (\"num\", num_pipeline, num_attribs),\n",
    " (\"cat\", OrdinalEncoder(), cat_attribs)])\n"
   ]
  },
  {
   "cell_type": "code",
   "execution_count": null,
   "id": "79ffb2e8",
   "metadata": {},
   "outputs": [],
   "source": [
    "train_prepared = full_pipeline.fit_transform(X_train)"
   ]
  },
  {
   "cell_type": "code",
   "execution_count": null,
   "id": "3dd25f0c",
   "metadata": {},
   "outputs": [],
   "source": [
    "train.head()"
   ]
  },
  {
   "cell_type": "code",
   "execution_count": null,
   "id": "b4575764",
   "metadata": {},
   "outputs": [],
   "source": [
    "test['area'] = test['x']*test['y']*test['z']\n",
    "train = test.drop(columns=['x','y','z'])"
   ]
  },
  {
   "cell_type": "code",
   "execution_count": null,
   "id": "c15ad879",
   "metadata": {},
   "outputs": [],
   "source": [
    "reg_model = LinearRegression().fit(train_prepared, y_train)\n",
    "test_l = full_pipeline.fit_transform(test)\n",
    "predictions = reg_model.predict(test_l)"
   ]
  },
  {
   "cell_type": "code",
   "execution_count": null,
   "id": "a427d5a0",
   "metadata": {},
   "outputs": [],
   "source": [
    "prediction_ready = pd.DataFrame(predictions, columns=['price'])"
   ]
  },
  {
   "cell_type": "code",
   "execution_count": null,
   "id": "513d7648",
   "metadata": {},
   "outputs": [],
   "source": [
    "train2 = pd.read_csv('test.csv')\n",
    "idc = pd.DataFrame()\n",
    "idc['id'] = train2['Id']\n",
    "prediction_ready['Id'] = idc['id']"
   ]
  },
  {
   "cell_type": "code",
   "execution_count": null,
   "id": "992260db",
   "metadata": {},
   "outputs": [],
   "source": [
    "predictions_ready = prediction_ready.set_index('Id')"
   ]
  },
  {
   "cell_type": "code",
   "execution_count": null,
   "id": "88f5dd7f",
   "metadata": {},
   "outputs": [],
   "source": [
    "prediction_ready.head()"
   ]
  },
  {
   "cell_type": "code",
   "execution_count": null,
   "id": "67e8a3ee",
   "metadata": {},
   "outputs": [],
   "source": [
    "prediction_ready.set_index('Id', drop=True, inplace=True)"
   ]
  },
  {
   "cell_type": "code",
   "execution_count": null,
   "id": "de2d9a4b",
   "metadata": {
    "scrolled": true
   },
   "outputs": [],
   "source": [
    "prediction_ready.head()"
   ]
  },
  {
   "cell_type": "code",
   "execution_count": null,
   "id": "24cba9ee",
   "metadata": {},
   "outputs": [],
   "source": [
    "prediction_ready.to_csv('predictions2.csv')"
   ]
  },
  {
   "cell_type": "code",
   "execution_count": null,
   "id": "5cd5a3cd",
   "metadata": {},
   "outputs": [],
   "source": [
    "from sklearn.ensemble import RandomForestRegressor\n",
    "from sklearn.neural_network import MLPRegressor\n",
    "from sklearn.model_selection import RandomizedSearchCV\n",
    "from sklearn.model_selection import cross_validate\n",
    "\"\"\"param_grid = [\n",
    "{'n_estimators': [3, 10, 30], 'max_features': [2, 4, 6, 8]},\n",
    "{'bootstrap': [False], 'n_estimators': [3, 10],\n",
    "'max_features':[2, 3, 4]\n",
    "},\n",
    "]\"\"\"\n",
    "param_grid = {\n",
    "    'n_estimators': [100, 500, 1000],\n",
    "    'max_features': ['auto', 'sqrt'],\n",
    "    'max_depth': [10, 20, 30, None],\n",
    "    'min_samples_split': [2, 5, 10],\n",
    "    'min_samples_leaf': [1, 2, 4],\n",
    "    'bootstrap': [True, False]\n",
    "}\n",
    "\"\"\"param_grid = {\n",
    "    'hidden_layer_sizes': [(50,), (100,), (50, 50), (100, 100)],\n",
    "    'activation': ['logistic', 'tanh', 'relu'],\n",
    "    'solver': ['adam', 'sgd'],\n",
    "    'alpha': [0.0001, 0.001, 0.01, 0.1],\n",
    "    'learning_rate': ['constant', 'adaptive'],\n",
    "}\"\"\"\n",
    "\"\"\"param_grid = {\n",
    "    'kernel': ['linear', 'poly', 'rbf', 'sigmoid'],\n",
    "    'C': [0.1, 1, 10, 100],\n",
    "    'gamma': ['scale', 'auto', 0.1, 1, 10],\n",
    "    'epsilon': [0.01, 0.1, 1, 10]\n",
    "}\"\"\"\n",
    "rfs_model = RandomForestRegressor()#.fit(train_prepared, y_train)\n",
    "#rfs_model = MLPRegressor(early_stopping=True).fit(train_prepared, y_train)\n",
    "#grid_search = RandomizedSearchCV(rfs_model, param_grid, cv=5,\n",
    "#scoring='neg_mean_squared_error')\n",
    "#grid_search.fit(train_prepared, y_train)\n",
    "\"\"\"cv_results = cross_validate(rfs_model, train_prepared, y_train, return_estimator=True)\n",
    "cv_estimator = cv_results['estimator']\n",
    "best_idx = cv_results['test']\n",
    "svm_model = rfs_model['']\n",
    "test_s = full_pipeline.fit_transform(test)\n",
    "predictions = svm_model.predict(test_s)\"\"\""
   ]
  },
  {
   "cell_type": "code",
   "execution_count": 421,
   "id": "10c93179",
   "metadata": {},
   "outputs": [],
   "source": [
    "svm_prediction_ready = pd.DataFrame(predictions, columns=['price'])\n"
   ]
  },
  {
   "cell_type": "code",
   "execution_count": 422,
   "id": "53b288db",
   "metadata": {},
   "outputs": [],
   "source": [
    "svm_prediction_ready['Id'] = idc['id']"
   ]
  },
  {
   "cell_type": "code",
   "execution_count": 423,
   "id": "d19c3c22",
   "metadata": {},
   "outputs": [],
   "source": [
    "svm_predictions_ready = svm_prediction_ready.set_index('Id')"
   ]
  },
  {
   "cell_type": "code",
   "execution_count": 424,
   "id": "dec31b91",
   "metadata": {},
   "outputs": [
    {
     "data": {
      "text/html": [
       "<div>\n",
       "<style scoped>\n",
       "    .dataframe tbody tr th:only-of-type {\n",
       "        vertical-align: middle;\n",
       "    }\n",
       "\n",
       "    .dataframe tbody tr th {\n",
       "        vertical-align: top;\n",
       "    }\n",
       "\n",
       "    .dataframe thead th {\n",
       "        text-align: right;\n",
       "    }\n",
       "</style>\n",
       "<table border=\"1\" class=\"dataframe\">\n",
       "  <thead>\n",
       "    <tr style=\"text-align: right;\">\n",
       "      <th></th>\n",
       "      <th>price</th>\n",
       "      <th>Id</th>\n",
       "    </tr>\n",
       "  </thead>\n",
       "  <tbody>\n",
       "    <tr>\n",
       "      <th>0</th>\n",
       "      <td>864.616667</td>\n",
       "      <td>1</td>\n",
       "    </tr>\n",
       "    <tr>\n",
       "      <th>1</th>\n",
       "      <td>3096.866667</td>\n",
       "      <td>2</td>\n",
       "    </tr>\n",
       "    <tr>\n",
       "      <th>2</th>\n",
       "      <td>896.066667</td>\n",
       "      <td>3</td>\n",
       "    </tr>\n",
       "    <tr>\n",
       "      <th>3</th>\n",
       "      <td>2802.666667</td>\n",
       "      <td>4</td>\n",
       "    </tr>\n",
       "    <tr>\n",
       "      <th>4</th>\n",
       "      <td>1089.600000</td>\n",
       "      <td>5</td>\n",
       "    </tr>\n",
       "  </tbody>\n",
       "</table>\n",
       "</div>"
      ],
      "text/plain": [
       "         price  Id\n",
       "0   864.616667   1\n",
       "1  3096.866667   2\n",
       "2   896.066667   3\n",
       "3  2802.666667   4\n",
       "4  1089.600000   5"
      ]
     },
     "execution_count": 424,
     "metadata": {},
     "output_type": "execute_result"
    }
   ],
   "source": [
    "svm_prediction_ready.head()"
   ]
  },
  {
   "cell_type": "code",
   "execution_count": 425,
   "id": "88f14502",
   "metadata": {},
   "outputs": [],
   "source": [
    "svm_prediction_ready.set_index('Id', drop=True, inplace=True)"
   ]
  },
  {
   "cell_type": "code",
   "execution_count": 426,
   "id": "f32ef2ef",
   "metadata": {},
   "outputs": [],
   "source": [
    "svm_prediction_ready.to_csv('svm_predictions2.csv')"
   ]
  }
 ],
 "metadata": {
  "kernelspec": {
   "display_name": "Python 3 (ipykernel)",
   "language": "python",
   "name": "python3"
  },
  "language_info": {
   "codemirror_mode": {
    "name": "ipython",
    "version": 3
   },
   "file_extension": ".py",
   "mimetype": "text/x-python",
   "name": "python",
   "nbconvert_exporter": "python",
   "pygments_lexer": "ipython3",
   "version": "3.10.9"
  }
 },
 "nbformat": 4,
 "nbformat_minor": 5
}
