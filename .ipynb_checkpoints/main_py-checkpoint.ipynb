{
 "cells": [
  {
   "cell_type": "markdown",
   "id": "b388a37a",
   "metadata": {},
   "source": [
    "# Data exploring"
   ]
  },
  {
   "cell_type": "markdown",
   "id": "ec4cf3af",
   "metadata": {
    "id": "8b45e84d"
   },
   "source": [
    "import pandas as pd\n",
    "import seaborn as sns\n",
    "from sklearn.linear_model import LinearRegression\n",
    "from sklearn.pipeline import make_pipeline\n",
    "from sklearn.preprocessing import StandardScaler\n",
    "from sklearn.compose import ColumnTransformer\n",
    "from sklearn.preprocessing import OrdinalEncoder, LabelEncoder\n",
    "from sklearn import svm\n"
   ]
  },
  {
   "cell_type": "code",
   "execution_count": 1,
   "id": "c653dc8b",
   "metadata": {
    "id": "c653dc8b"
   },
   "outputs": [
    {
     "ename": "NameError",
     "evalue": "name 'pd' is not defined",
     "output_type": "error",
     "traceback": [
      "\u001b[1;31m---------------------------------------------------------------------------\u001b[0m",
      "\u001b[1;31mNameError\u001b[0m                                 Traceback (most recent call last)",
      "Cell \u001b[1;32mIn[1], line 1\u001b[0m\n\u001b[1;32m----> 1\u001b[0m train \u001b[38;5;241m=\u001b[39m \u001b[43mpd\u001b[49m\u001b[38;5;241m.\u001b[39mread_csv(\u001b[38;5;124m'\u001b[39m\u001b[38;5;124mtrain.csv\u001b[39m\u001b[38;5;124m'\u001b[39m)\n\u001b[0;32m      2\u001b[0m test \u001b[38;5;241m=\u001b[39m pd\u001b[38;5;241m.\u001b[39mread_csv(\u001b[38;5;124m'\u001b[39m\u001b[38;5;124mtest.csv\u001b[39m\u001b[38;5;124m'\u001b[39m)\n",
      "\u001b[1;31mNameError\u001b[0m: name 'pd' is not defined"
     ]
    }
   ],
   "source": [
    "train = pd.read_csv('train.csv')\n",
    "test = pd.read_csv('test.csv')"
   ]
  },
  {
   "cell_type": "code",
   "execution_count": null,
   "id": "3ec0984f",
   "metadata": {
    "colab": {
     "base_uri": "https://localhost:8080/",
     "height": 206
    },
    "id": "3ec0984f",
    "outputId": "7212e52b-40d9-47a0-ff64-35b6b027e9b4"
   },
   "outputs": [],
   "source": [
    "train.head()"
   ]
  },
  {
   "cell_type": "code",
   "execution_count": null,
   "id": "f0b2f68c",
   "metadata": {
    "colab": {
     "base_uri": "https://localhost:8080/",
     "height": 206
    },
    "id": "f0b2f68c",
    "outputId": "956a2872-3737-486a-e517-9648a8bf5c03"
   },
   "outputs": [],
   "source": [
    "test.head()"
   ]
  },
  {
   "cell_type": "code",
   "execution_count": null,
   "id": "58371fcb",
   "metadata": {
    "colab": {
     "base_uri": "https://localhost:8080/"
    },
    "id": "58371fcb",
    "outputId": "cef942a9-3ee0-4f8a-cea9-770638743f7e"
   },
   "outputs": [],
   "source": [
    "train.info()"
   ]
  },
  {
   "cell_type": "code",
   "execution_count": null,
   "id": "5f1ec30d",
   "metadata": {
    "colab": {
     "base_uri": "https://localhost:8080/",
     "height": 344
    },
    "id": "5f1ec30d",
    "outputId": "6765beb5-5ef9-45c7-db5b-416f67ec08f6"
   },
   "outputs": [],
   "source": [
    "train.describe()"
   ]
  },
  {
   "cell_type": "code",
   "execution_count": null,
   "id": "nEPAVxBJ_XIQ",
   "metadata": {
    "colab": {
     "base_uri": "https://localhost:8080/"
    },
    "id": "nEPAVxBJ_XIQ",
    "outputId": "d0407dfa-8477-4736-e79b-afe23787697f"
   },
   "outputs": [],
   "source": [
    "train.shape"
   ]
  },
  {
   "cell_type": "code",
   "execution_count": null,
   "id": "8b88c930",
   "metadata": {
    "id": "8b88c930"
   },
   "outputs": [],
   "source": [
    "train = train.drop(columns=['Id'])\n",
    "test = test.drop(columns=['Id'])"
   ]
  },
  {
   "cell_type": "code",
   "execution_count": null,
   "id": "de73c0dd",
   "metadata": {
    "colab": {
     "base_uri": "https://localhost:8080/",
     "height": 945
    },
    "id": "de73c0dd",
    "outputId": "f4f4bc84-0c5d-4b72-8147-98abeb2743a6"
   },
   "outputs": [],
   "source": [
    "sns.pairplot(train);"
   ]
  },
  {
   "cell_type": "code",
   "execution_count": null,
   "id": "6daf48b2",
   "metadata": {
    "colab": {
     "base_uri": "https://localhost:8080/",
     "height": 452
    },
    "id": "6daf48b2",
    "outputId": "7baa6aca-b63e-4f21-e293-dd5d8f3ffe5d"
   },
   "outputs": [],
   "source": [
    "corr = train.corr(numeric_only=True)\n",
    "sns.heatmap(corr, annot=True);"
   ]
  },
  {
   "cell_type": "markdown",
   "id": "f6c5e699",
   "metadata": {},
   "source": [
    "# Preprocessing"
   ]
  },
  {
   "cell_type": "code",
   "execution_count": null,
   "id": "eN2ITmQR9ihl",
   "metadata": {
    "colab": {
     "base_uri": "https://localhost:8080/"
    },
    "id": "eN2ITmQR9ihl",
    "outputId": "c7f33dfc-90d2-4723-d553-3021267c8a47"
   },
   "outputs": [],
   "source": [
    "# Removing duplicates\n",
    "train.drop_duplicates(inplace=True)\n",
    "print(\"Duplicated :\",train.duplicated().sum())\n",
    "test.drop_duplicates(inplace=True)\n",
    "print(\"Duplicated :\",test.duplicated().sum())"
   ]
  },
  {
   "cell_type": "code",
   "execution_count": null,
   "id": "9c56cf9b",
   "metadata": {
    "colab": {
     "base_uri": "https://localhost:8080/",
     "height": 452
    },
    "id": "9c56cf9b",
    "outputId": "e8ae5858-8233-4ca5-b831-2ba59101b9a0"
   },
   "outputs": [],
   "source": [
    "# Using x, y, z as 1 feature: Volume\n",
    "train['volume'] = train['x']*train['y']*train['z']\n",
    "train = train.drop(columns=['x','y','z'])\n",
    "test['volume'] = test['x']*test['y']*test['z']\n",
    "test = test.drop(columns=['x','y','z'])\n",
    "test_corr = train.corr(numeric_only=True)\n",
    "sns.heatmap(test_corr, annot=True);\n"
   ]
  },
  {
   "cell_type": "code",
   "execution_count": null,
   "id": "-kpWADDdBJ6c",
   "metadata": {
    "id": "-kpWADDdBJ6c"
   },
   "outputs": [],
   "source": [
    "# replacing 0 values in the data\n",
    "train['area']=train['area'].replace(0, train['area'].median())\n",
    "test['area']=test['area'].replace(0, test['area'].median())"
   ]
  },
  {
   "cell_type": "code",
   "execution_count": null,
   "id": "74f86b89",
   "metadata": {
    "colab": {
     "base_uri": "https://localhost:8080/",
     "height": 206
    },
    "id": "74f86b89",
    "outputId": "faa567fb-c8b2-432a-f385-8026fa1a20d0"
   },
   "outputs": [],
   "source": [
    "train.head()"
   ]
  },
  {
   "cell_type": "code",
   "execution_count": null,
   "id": "NAcLteL25w_v",
   "metadata": {
    "colab": {
     "base_uri": "https://localhost:8080/",
     "height": 450
    },
    "id": "NAcLteL25w_v",
    "outputId": "a7d15ce4-f497-4f4e-9026-4987ce042747"
   },
   "outputs": [],
   "source": [
    "sns.boxplot(train['area']);"
   ]
  },
  {
   "cell_type": "code",
   "execution_count": null,
   "id": "_mJyMG6z9lan",
   "metadata": {
    "colab": {
     "base_uri": "https://localhost:8080/"
    },
    "id": "_mJyMG6z9lan",
    "outputId": "1769dbc6-ba1e-46ce-c0cc-e420375364e7"
   },
   "outputs": [],
   "source": [
    "Q1 = train.quantile(0.25)\n",
    "Q3 = train.quantile(0.75)\n",
    "Q1_t = test.quantile(0.25)\n",
    "Q3_t = test.quantile(0.75)\n",
    "IQR = Q3 - Q1\n",
    "IQR_t = Q3_t - Q1_t\n",
    "lower = Q1 - 1.5 * IQR\n",
    "upper = Q3 + 1.5 * IQR\n",
    "lower_t = Q1_t - 1.5 * IQR_t\n",
    "upper_t = Q3_t + 1.5 * IQR_t\n",
    "#train = train[(train['price'] >= lower) & (train['price'] <= upper)]\n",
    "data_without_outliers = train[~((train < lower) | (train > upper)).any(axis=1)]\n",
    "data_without_outliers = test[~((test < lower_t) | (test > upper_t)).any(axis=1)]\n",
    "print(train.shape)"
   ]
  },
  {
   "cell_type": "code",
   "execution_count": null,
   "id": "OkLdYxivBkqy",
   "metadata": {
    "colab": {
     "base_uri": "https://localhost:8080/",
     "height": 447
    },
    "id": "OkLdYxivBkqy",
    "outputId": "5ff38e0d-3412-4cb5-dfc9-2696fa45932f"
   },
   "outputs": [],
   "source": [
    "sns.boxplot(train['price']);"
   ]
  },
  {
   "cell_type": "code",
   "execution_count": null,
   "id": "52428160",
   "metadata": {
    "id": "52428160"
   },
   "outputs": [],
   "source": [
    "y_train = train['price']\n",
    "X_train = train.drop(columns=['price'])"
   ]
  },
  {
   "cell_type": "code",
   "execution_count": null,
   "id": "0ee0dbd4",
   "metadata": {
    "id": "0ee0dbd4"
   },
   "outputs": [],
   "source": [
    "from sklearn.preprocessing import OneHotEncoder, FunctionTransformer\n",
    "import numpy as np\n",
    "\n",
    "def log_transform(X):\n",
    "    return np.log(X+1)\n",
    "num_attribs = list(X_train.columns.drop(['cut', 'clarity', 'color']))\n",
    "cat_attribs = list(X_train[['cut', 'clarity', 'color']].columns)\n",
    "num_pipeline = make_pipeline(StandardScaler())\n",
    "cat_pipeline = make_pipeline(OrdinalEncoder())\n",
    "full_pipeline = ColumnTransformer([\n",
    " (\"num\", num_pipeline, num_attribs),\n",
    " (\"cat\", cat_pipeline, cat_attribs)])\n"
   ]
  },
  {
   "cell_type": "code",
   "execution_count": null,
   "id": "6KrmbLzpZLFs",
   "metadata": {
    "colab": {
     "base_uri": "https://localhost:8080/",
     "height": 206
    },
    "id": "6KrmbLzpZLFs",
    "outputId": "4a75e5d7-4cab-4f06-e8e8-14975a2cc36b"
   },
   "outputs": [],
   "source": [
    "X_train.head()"
   ]
  },
  {
   "cell_type": "code",
   "execution_count": null,
   "id": "79ffb2e8",
   "metadata": {
    "id": "79ffb2e8"
   },
   "outputs": [],
   "source": [
    "train_prepared = full_pipeline.fit_transform(X_train)"
   ]
  },
  {
   "cell_type": "code",
   "execution_count": null,
   "id": "3dd25f0c",
   "metadata": {
    "colab": {
     "base_uri": "https://localhost:8080/",
     "height": 206
    },
    "id": "3dd25f0c",
    "outputId": "7a1f6755-fc2f-4724-e7d0-17c487b82caf"
   },
   "outputs": [],
   "source": [
    "train.head()"
   ]
  },
  {
   "cell_type": "code",
   "execution_count": null,
   "id": "c15ad879",
   "metadata": {
    "id": "c15ad879"
   },
   "outputs": [],
   "source": [
    "reg_model = LinearRegression().fit(train_prepared, y_train)\n",
    "test_l = full_pipeline.fit_transform(test)\n",
    "predictions = reg_model.predict(test_l)"
   ]
  },
  {
   "cell_type": "code",
   "execution_count": null,
   "id": "a427d5a0",
   "metadata": {
    "id": "a427d5a0"
   },
   "outputs": [],
   "source": [
    "prediction_ready = pd.DataFrame(predictions, columns=['price'])"
   ]
  },
  {
   "cell_type": "code",
   "execution_count": null,
   "id": "513d7648",
   "metadata": {
    "id": "513d7648"
   },
   "outputs": [],
   "source": [
    "train2 = pd.read_csv('test.csv')\n",
    "idc = pd.DataFrame()\n",
    "idc['id'] = train2['Id']\n",
    "prediction_ready['Id'] = idc['id']"
   ]
  },
  {
   "cell_type": "code",
   "execution_count": null,
   "id": "992260db",
   "metadata": {
    "id": "992260db"
   },
   "outputs": [],
   "source": [
    "predictions_ready = prediction_ready.set_index('Id')"
   ]
  },
  {
   "cell_type": "code",
   "execution_count": null,
   "id": "88f5dd7f",
   "metadata": {
    "colab": {
     "base_uri": "https://localhost:8080/",
     "height": 206
    },
    "id": "88f5dd7f",
    "outputId": "b8e8ee42-9387-4e64-f7ad-207a67782e07"
   },
   "outputs": [],
   "source": [
    "prediction_ready.head()"
   ]
  },
  {
   "cell_type": "code",
   "execution_count": null,
   "id": "67e8a3ee",
   "metadata": {
    "id": "67e8a3ee"
   },
   "outputs": [],
   "source": [
    "prediction_ready.set_index('Id', drop=True, inplace=True)"
   ]
  },
  {
   "cell_type": "code",
   "execution_count": null,
   "id": "de2d9a4b",
   "metadata": {
    "colab": {
     "base_uri": "https://localhost:8080/",
     "height": 238
    },
    "id": "de2d9a4b",
    "outputId": "db8fabda-c522-4639-c90f-745e480200b9"
   },
   "outputs": [],
   "source": [
    "prediction_ready.head()"
   ]
  },
  {
   "cell_type": "code",
   "execution_count": null,
   "id": "24cba9ee",
   "metadata": {
    "id": "24cba9ee"
   },
   "outputs": [],
   "source": [
    "prediction_ready.to_csv('predictions2.csv')"
   ]
  },
  {
   "cell_type": "code",
   "execution_count": null,
   "id": "WeNvawwv5GNb",
   "metadata": {
    "colab": {
     "base_uri": "https://localhost:8080/",
     "height": 206
    },
    "id": "WeNvawwv5GNb",
    "outputId": "08b2e757-cf15-44f7-91da-4ec5d4816f5f"
   },
   "outputs": [],
   "source": [
    "test.head()"
   ]
  },
  {
   "cell_type": "code",
   "execution_count": null,
   "id": "pmKupufy-NRG",
   "metadata": {
    "colab": {
     "base_uri": "https://localhost:8080/"
    },
    "id": "pmKupufy-NRG",
    "outputId": "4d46e2bc-55b5-4e3a-956e-ceb6d2fd7660"
   },
   "outputs": [],
   "source": [
    "y_train.head()"
   ]
  },
  {
   "cell_type": "code",
   "execution_count": null,
   "id": "5cd5a3cd",
   "metadata": {
    "colab": {
     "base_uri": "https://localhost:8080/",
     "height": 53
    },
    "id": "5cd5a3cd",
    "outputId": "89112c19-320a-4b67-e103-f62ebccfd59b"
   },
   "outputs": [],
   "source": [
    "from sklearn.ensemble import RandomForestRegressor\n",
    "from sklearn.neural_network import MLPRegressor\n",
    "from sklearn.model_selection import RandomizedSearchCV\n",
    "from sklearn.model_selection import cross_validate, cross_val_predict, KFold\n",
    "from sklearn.tree import DecisionTreeRegressor\n",
    "from sklearn.preprocessing import PolynomialFeatures\n",
    "from sklearn.preprocessing import StandardScaler\n",
    "from sklearn.ensemble import GradientBoostingRegressor\n",
    "from sklearn.linear_model import (LinearRegression, HuberRegressor,\n",
    "                              \tRANSACRegressor, TheilSenRegressor)\n",
    "from sklearn.neighbors import KNeighborsRegressor\n",
    "import matplotlib.pyplot as plt\n",
    "import xgboost as xgb\n",
    "\"\"\"param_grid = [\n",
    "{'n_estimators': [3, 10, 30], 'max_features': [2, 4, 6, 8]},\n",
    "{'bootstrap': [False], 'n_estimators': [3, 10],\n",
    "'max_features':[2, 3, 4]\n",
    "},\n",
    "]\"\"\"\n",
    "param_grid = {\n",
    "    'n_estimators': [100, 500, 1000],\n",
    "    'max_depth': [10, 20, 30, None],\n",
    "    'min_samples_split': [2, 5, 10],\n",
    "    'min_samples_leaf': [1, 2, 4]\n",
    "}\n",
    "params = {\n",
    "    'eval_metric': 'logloss'  # Evaluation metric (logloss in this example)\n",
    "}\n",
    "\"\"\"param_grid = {\n",
    "    'hidden_layer_sizes': [(50,), (100,), (50, 50), (100, 100)],\n",
    "    'activation': ['logistic', 'tanh', 'relu'],\n",
    "    'solver': ['adam', 'sgd'],\n",
    "    'alpha': [0.0001, 0.001, 0.01, 0.1],\n",
    "    'learning_rate': ['constant', 'adaptive'],\n",
    "}\"\"\"\n",
    "\"\"\"param_grid = {\n",
    "    'kernel': ['linear', 'poly', 'rbf', 'sigmoid'],\n",
    "    'C': [0.1, 1, 10, 100],\n",
    "    'gamma': ['scale', 'auto', 0.1, 1, 10],\n",
    "    'epsilon': [0.01, 0.1, 1, 10]\n",
    "}\"\"\"\n",
    "#rfs_model = MLPRegressor().fit(train_prepared, y_train)\n",
    "#y_pred = rfs_model.predict(train_prepared)\n",
    "rfs_model = xgb.XGBRegressor().fit(train_prepared, y_train)\n",
    "#cv_results = cross_val_predict(rfs_model, train_prepared, y_train, return_estimator=True, return_train_score=True ,cv=3, scoring='neg_mean_squared_error')\n",
    "#rfs_model = RandomizedSearchCV(rfs_model, param_grid, cv=5).fit(train_prepared, y_train)\n",
    "#scoring='neg_mean_squared_error')\n",
    "\"\"\"hidden_units1 = 160\n",
    "hidden_units2 = 480\n",
    "hidden_units3 = 256\n",
    "learning_rate = 0.01\n",
    "# Creating model using the Sequential in tensorflow\n",
    "def build_model_using_sequential():\n",
    "  model = Sequential([\n",
    "    Dense(hidden_units1, kernel_initializer='normal', activation='relu'),\n",
    "    Dropout(0.2),\n",
    "    Dense(hidden_units2, kernel_initializer='normal', activation='relu'),\n",
    "    Dropout(0.2),\n",
    "    Dense(hidden_units3, kernel_initializer='normal', activation='relu'),\n",
    "    Dense(1, kernel_initializer='normal', activation='linear')\n",
    "  ])\n",
    "  return model\n",
    "# build the model\n",
    "model = build_model_using_sequential()\n",
    "msle = MeanSquaredLogarithmicError()\n",
    "model.compile(\n",
    "    loss=msle, \n",
    "    optimizer=Adam(learning_rate=learning_rate), \n",
    "    metrics=[msle]\n",
    ")\n",
    "# train the model\n",
    "rfs_model = model.fit(\n",
    "    train_prepared, \n",
    "    y_train, \n",
    "    epochs=2, \n",
    "    batch_size=64,\n",
    "    validation_split=0.2\n",
    ")\"\"\"\n",
    "\"\"\"loss_test_values = -cv_results['']\n",
    "loss_train_values = -cv_results['train_score']\n",
    "plt.plot(loss_train_values)\n",
    "plt.show()\n",
    "plt.plot(loss_test_values)\n",
    "plt.show()\"\"\"\n",
    "# Plot the predicted vs. true values\n",
    "#print('{:.2f}'.format(rfs_model.score(train_prepared, y_train)))"
   ]
  },
  {
   "cell_type": "code",
   "execution_count": null,
   "id": "hAZhO0_mv2A9",
   "metadata": {
    "id": "hAZhO0_mv2A9"
   },
   "outputs": [],
   "source": [
    "\"\"\"cv_estimator = cv_results['estimator']\n",
    "cv_results\n",
    "best_idx = cv_results['test_score'].argmax()\n",
    "best_estimator = cv_estimator[best_idx]\"\"\"\n",
    "#print(rfs_model.score(train_prepared, y_train))\n",
    "svm_model = rfs_model\n",
    "test_s = full_pipeline.fit_transform(test)\n",
    "predictions = svm_model.predict(test_s)"
   ]
  },
  {
   "cell_type": "code",
   "execution_count": null,
   "id": "ujQvp8WAZ2m-",
   "metadata": {
    "id": "ujQvp8WAZ2m-"
   },
   "outputs": [],
   "source": []
  },
  {
   "cell_type": "code",
   "execution_count": null,
   "id": "10c93179",
   "metadata": {
    "id": "10c93179"
   },
   "outputs": [],
   "source": [
    "svm_prediction_ready = pd.DataFrame(predictions, columns=['price'])\n"
   ]
  },
  {
   "cell_type": "code",
   "execution_count": null,
   "id": "53b288db",
   "metadata": {
    "id": "53b288db"
   },
   "outputs": [],
   "source": [
    "svm_prediction_ready['Id'] = idc['id']"
   ]
  },
  {
   "cell_type": "code",
   "execution_count": null,
   "id": "d19c3c22",
   "metadata": {
    "id": "d19c3c22"
   },
   "outputs": [],
   "source": [
    "svm_predictions_ready = svm_prediction_ready.set_index('Id')"
   ]
  },
  {
   "cell_type": "code",
   "execution_count": null,
   "id": "dec31b91",
   "metadata": {
    "colab": {
     "base_uri": "https://localhost:8080/",
     "height": 206
    },
    "id": "dec31b91",
    "outputId": "5c3e6b6a-d82a-4c5f-8acc-e776a4aaeade"
   },
   "outputs": [],
   "source": [
    "svm_prediction_ready.head()"
   ]
  },
  {
   "cell_type": "code",
   "execution_count": null,
   "id": "88f14502",
   "metadata": {
    "id": "88f14502"
   },
   "outputs": [],
   "source": [
    "svm_prediction_ready.set_index('Id', drop=True, inplace=True)"
   ]
  },
  {
   "cell_type": "code",
   "execution_count": null,
   "id": "f32ef2ef",
   "metadata": {
    "id": "f32ef2ef"
   },
   "outputs": [],
   "source": [
    "svm_prediction_ready.to_csv('svm_predictions2.csv')"
   ]
  }
 ],
 "metadata": {
  "accelerator": "GPU",
  "colab": {
   "gpuType": "T4",
   "provenance": []
  },
  "gpuClass": "standard",
  "kernelspec": {
   "display_name": "Python 3 (ipykernel)",
   "language": "python",
   "name": "python3"
  },
  "language_info": {
   "codemirror_mode": {
    "name": "ipython",
    "version": 3
   },
   "file_extension": ".py",
   "mimetype": "text/x-python",
   "name": "python",
   "nbconvert_exporter": "python",
   "pygments_lexer": "ipython3",
   "version": "3.10.9"
  }
 },
 "nbformat": 4,
 "nbformat_minor": 5
}
